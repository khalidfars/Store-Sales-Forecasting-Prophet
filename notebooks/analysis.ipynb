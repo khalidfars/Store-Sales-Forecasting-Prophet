{
 "cells": [
  {
   "cell_type": "code",
   "execution_count": null,
   "metadata": {},
   "outputs": [],
   "source": [
    "# analysis.ipynb\n",
    "import os\n",
    "os.chdir('C:\\\\Users\\\\Khalid\\\\OneDrive\\\\Bureau\\\\Prophet Project\\\\Prophet')\n",
    "\n",
    "# Import required libraries\n",
    "import pandas as pd\n",
    "from src.data_preprocessing import load_and_preprocess_data\n",
    "from src.data_visualization import plot_sales_distribution, plot_monthly_sales\n",
    "from src.seasonal_decomposition import seasonal_decomposition_plot\n",
    "from src.prophet_forecasting import prophet_forecast\n",
    "\n",
    "# Load and preprocess the data\n",
    "file_path = 'data/stores_sales_forecasting.csv'\n",
    "data, monthly_sales = load_and_preprocess_data(file_path)\n",
    "\n",
    "# Visualizations\n",
    "plot_sales_distribution(data)\n",
    "plot_monthly_sales(monthly_sales)\n",
    "\n",
    "# Seasonal Decomposition\n",
    "seasonal_decomposition_plot(monthly_sales)\n",
    "\n",
    "# Prophet Forecasting\n",
    "forecast = prophet_forecast(monthly_sales)\n",
    "\n",
    "# Print some forecast metrics\n",
    "print(\"\\nForecast Summary:\")\n",
    "print(forecast[['ds', 'yhat', 'yhat_lower', 'yhat_upper']].tail())\n"
   ]
  }
 ],
 "metadata": {
  "kernelspec": {
   "display_name": "Python 3",
   "language": "python",
   "name": "python3"
  },
  "language_info": {
   "codemirror_mode": {
    "name": "ipython",
    "version": 3
   },
   "file_extension": ".py",
   "mimetype": "text/x-python",
   "name": "python",
   "nbconvert_exporter": "python",
   "pygments_lexer": "ipython3",
   "version": "3.9.13"
  }
 },
 "nbformat": 4,
 "nbformat_minor": 2
}
